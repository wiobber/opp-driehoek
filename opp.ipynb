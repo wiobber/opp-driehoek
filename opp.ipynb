{
  "metadata": {
    "language_info": {
      "codemirror_mode": {
        "name": "python",
        "version": 3
      },
      "file_extension": ".py",
      "mimetype": "text/x-python",
      "name": "python",
      "nbconvert_exporter": "python",
      "pygments_lexer": "ipython3",
      "version": "3.8"
    },
    "kernelspec": {
      "name": "python",
      "display_name": "Python (Pyodide)",
      "language": "python"
    }
  },
  "nbformat_minor": 4,
  "nbformat": 4,
  "cells": [
    {
      "cell_type": "code",
      "source": "import math\n\ndef bereken_oppervlakte(xA, yA, zA, xB, yB, zB, xC, yC, zC):\n# Definitie van de punten als tupples in python\n    puntA = (xA, yA, zA)\n    puntB = (xB, yB, zC)\n    puntC = (xC, yC, zC)\n# Berekening bestaat uit verschillende delen\n    ## Bereken de lengte van de basis => we kiezen AB als basis en bepalen de lengte via de norm van vector AB\n    vector_AB = (xB-xA,yB-yA,zB-zA)\n    basis = norm(vector_AB)\n    ## Bereken de hoogte van de driehoek door projectie van vector AC op AB en vervolgens pythagoras toe te passen\n    ## in de driehoek gevormd door vector AC en de projectie van AC op AB.\n    vector_AC = (xC-xA,yC-yA,zC-zA)\n    lengte_AC = norm(vector_AC)\n    productAC_AB = vector_AC[0]*vector_AB[0]+vector_AC[1]*vector_AB[1]+vector_AC[2]*vector_AB[2]\n    lengte_projectie = productAC_AB/basis\n    hoogte = math.sqrt(lengte_AC**2-lengte_projectie**2)\n    ## Oppervlakte driehoek is 1/2xbasisxhoogte\n    oppervlakte = 1/2*basis*hoogte\n# Finale output is een zin die het resultaat beschrijft\n    print(\"De oppervlakte van de driehoek ABC bedraagt \", oppervlakte, \" vierkante meter. De punten zijn A\",puntA,\", B\", puntB, \" en C\", puntC,\".\", sep=\"\")\n\ndef norm(vector):\n    x = vector[0]\n    y = vector [1]\n    z = vector [2]\n    norm = math.sqrt(x*x+y*y+z*z)\n    return norm\n\nbereken_oppervlakte(0,0,0,2,0,0,4,6,0)\n\n",
      "metadata": {
        "trusted": true
      },
      "execution_count": 1,
      "outputs": [
        {
          "name": "stdout",
          "text": "De oppervlakte van de driehoek ABC bedraagt 5.999999999999999 vierkante meter. De punten zijn A(0, 0, 0), B(2, 0, 0) en C(4, 6, 0).\n",
          "output_type": "stream"
        }
      ]
    },
    {
      "cell_type": "code",
      "source": "bereken_oppervlakte(0,0,0,4,0,0,4,6,0)",
      "metadata": {
        "trusted": true
      },
      "execution_count": 2,
      "outputs": [
        {
          "name": "stdout",
          "text": "De oppervlakte van de driehoek ABC bedraagt 11.999999999999998 vierkante meter. De punten zijn A(0, 0, 0), B(4, 0, 0) en C(4, 6, 0).\n",
          "output_type": "stream"
        }
      ]
    },
    {
      "cell_type": "code",
      "source": "",
      "metadata": {},
      "execution_count": null,
      "outputs": []
    }
  ]
}
